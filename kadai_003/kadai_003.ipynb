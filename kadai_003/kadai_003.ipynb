{
  "nbformat": 4,
  "nbformat_minor": 0,
  "metadata": {
    "colab": {
      "provenance": []
    },
    "kernelspec": {
      "name": "python3",
      "display_name": "Python 3"
    },
    "language_info": {
      "name": "python"
    }
  },
  "cells": [
    {
      "cell_type": "markdown",
      "source": [],
      "metadata": {
        "id": "TcmLIeucTO5U"
      }
    },
    {
      "cell_type": "code",
      "source": [
        "import numpy as np\n",
        "\n",
        "A = np.array([[0, 1], [2, 3], [4, 5]])\n",
        "B = np.array([[1, 2, 3, 4], [5, 6, 7, 8]])\n",
        "\n",
        "multi_array = np.dot(A, B)\n",
        "print(multi_array)\n",
        "\n",
        "max = multi_array.max()\n",
        "print(max)"
      ],
      "metadata": {
        "colab": {
          "base_uri": "https://localhost:8080/"
        },
        "id": "jSKURNC7TQEL",
        "outputId": "25e5a00a-0101-4ade-fe13-c92e725be299"
      },
      "execution_count": 13,
      "outputs": [
        {
          "output_type": "stream",
          "name": "stdout",
          "text": [
            "[[ 5  6  7  8]\n",
            " [17 22 27 32]\n",
            " [29 38 47 56]]\n",
            "56\n"
          ]
        }
      ]
    }
  ]
}